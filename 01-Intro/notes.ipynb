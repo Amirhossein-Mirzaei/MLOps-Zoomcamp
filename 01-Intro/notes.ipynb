{
 "cells": [
  {
   "cell_type": "markdown",
   "id": "6c560ccd",
   "metadata": {},
   "source": [
    "# MLOps Course\n",
    "### Introduction"
   ]
  }
 ],
 "metadata": {
  "language_info": {
   "name": "python"
  }
 },
 "nbformat": 4,
 "nbformat_minor": 5
}
